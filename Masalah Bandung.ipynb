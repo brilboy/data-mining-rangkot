{
 "cells": [
  {
   "cell_type": "code",
   "execution_count": 16,
   "id": "287af5fb",
   "metadata": {},
   "outputs": [],
   "source": [
    "import snscrape.modules.twitter as sntwitter\n",
    "import pandas as pd\n",
    "import csv"
   ]
  },
  {
   "cell_type": "code",
   "execution_count": 22,
   "id": "1623a6c4",
   "metadata": {},
   "outputs": [],
   "source": [
    "keyword = 'masalah bandung -kpop, -tinggi -badan'\n",
    "tweets = []\n",
    "limit = 1000\n",
    "\n",
    "search = sntwitter.TwitterSearchScraper(keyword)\n",
    "\n",
    "for tweet in search.get_items():\n",
    "  if len(tweets) == limit:\n",
    "    break\n",
    "  else:\n",
    "    tweets.append([tweet.date, tweet.user.username, tweet.content, tweet.url])\n",
    "\n",
    "df = pd.DataFrame(tweets, columns=['Date', 'User', 'Tweet', 'Link'])\n",
    "df.to_csv(\"Masalah Bandung.csv\")"
   ]
  },
  {
   "cell_type": "code",
   "execution_count": null,
   "id": "0e433ad0",
   "metadata": {},
   "outputs": [],
   "source": []
  }
 ],
 "metadata": {
  "kernelspec": {
   "display_name": "Python 3",
   "language": "python",
   "name": "python3"
  },
  "language_info": {
   "codemirror_mode": {
    "name": "ipython",
    "version": 3
   },
   "file_extension": ".py",
   "mimetype": "text/x-python",
   "name": "python",
   "nbconvert_exporter": "python",
   "pygments_lexer": "ipython3",
   "version": "3.8.8"
  }
 },
 "nbformat": 4,
 "nbformat_minor": 5
}
